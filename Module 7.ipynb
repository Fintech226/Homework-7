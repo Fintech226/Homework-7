{
 "cells": [
  {
   "cell_type": "code",
   "execution_count": null,
   "id": "3b916b6a-e410-411c-bcc4-6f380139e049",
   "metadata": {},
   "outputs": [],
   "source": [
    "import pandas as pd\n",
    "import hvplot.pandas\n",
    "from pathlib import Path"
   ]
  },
  {
   "cell_type": "code",
   "execution_count": null,
   "id": "c91f5e15-b4c6-446f-bdd6-bb4e583e1cd2",
   "metadata": {},
   "outputs": [],
   "source": [
    "subscribers_df = pd.read_csv(Path(\"../Resources/transaction.csv\"))\n",
    "\n",
    "subscribers_df.head()"
   ]
  },
  {
   "cell_type": "code",
   "execution_count": null,
   "id": "8f434ee1-d095-4cda-ab3c-fbe0f5af19f5",
   "metadata": {},
   "outputs": [],
   "source": [
    "q1_2018 = subscribers_df.loc[subscribers_df['Years'] == 'Q1 - 2018']\n",
    "\n",
    "q1_2018 = q1_2018.set_index('Area')\n",
    "\n",
    "q1_2018_plot = q1_2018['id_merchant'].hvplot.bar(label=\"Subscriber Numbers - Q1 2018\")\n",
    "\n",
    "q1_2018_plot"
   ]
  },
  {
   "cell_type": "code",
   "execution_count": null,
   "id": "82630107-294a-4e9b-8c71-77410c554722",
   "metadata": {},
   "outputs": [],
   "source": [
    "q1_2019 = subscribers_df.loc[subscribers_df['Years'] == 'Q1 - 2019']\n",
    "\n",
    "q1_2019 = q1_2019.set_index('Area')\n",
    "\n",
    "q1_2019_plot = q1_2019['id_merchant'].hvplot.bar(label=\"Subscriber Numbers - Q1 2019\")\n",
    "\n",
    "q1_2019_plot"
   ]
  },
  {
   "cell_type": "code",
   "execution_count": null,
   "id": "fafe5973-3fbb-4afd-aef7-7e5c3065157e",
   "metadata": {},
   "outputs": [],
   "source": [
    "q1_2020 = subscribers_df.loc[subscribers_df['date'] == 'Q1 - 2020']\n",
    "\n",
    "q1_2020 = q1_2020.set_index('amount)\n",
    "\n",
    "q1_2020_plot = q1_2020['id_merchant'].hvplot.bar(label=\"Subscriber Numbers - Q1 2020\")\n",
    "\n",
    "q1_2020_plot"
   ]
  },
  {
   "cell_type": "code",
   "execution_count": null,
   "id": "cfbac493-c948-434c-8cd3-430880ad490e",
   "metadata": {},
   "outputs": [],
   "source": [
    "q1_2018_plot + q1_2019_plot + q1_2020_plot"
   ]
  },
  {
   "cell_type": "code",
   "execution_count": null,
   "id": "f96d57a4-a523-4cb6-b6e0-63c9d0c66330",
   "metadata": {},
   "outputs": [],
   "source": [
    "q1_2020_plot * q1_2019_plot * q1_2018_plot"
   ]
  },
  {
   "cell_type": "code",
   "execution_count": null,
   "id": "6995ea97-0d2e-4abc-b71f-31916c9c6a69",
   "metadata": {},
   "outputs": [],
   "source": [
    "us_canada_subscribers = subscribers_df.loc[subscribers_df['Area'] == 'United States and Canada']\n",
    "\n",
    "us_canada_subscribers = us_canada_subscribers.set_index('Years')\n",
    "\n",
    "us_canada_plot = us_canada_subscribers['id_merchant'].hvplot(label = 'US and Canada Subscribers')\n",
    "\n",
    "us_canada_plot"
   ]
  },
  {
   "cell_type": "code",
   "execution_count": 1,
   "id": "008363c3-0e2c-4a58-8450-9067af4ece48",
   "metadata": {},
   "outputs": [
    {
     "ename": "NameError",
     "evalue": "name 'subscribers_df' is not defined",
     "output_type": "error",
     "traceback": [
      "\u001b[1;31m---------------------------------------------------------------------------\u001b[0m",
      "\u001b[1;31mNameError\u001b[0m                                 Traceback (most recent call last)",
      "\u001b[1;32m~\\AppData\\Local\\Temp\\ipykernel_7832\\4146514947.py\u001b[0m in \u001b[0;36m<module>\u001b[1;34m\u001b[0m\n\u001b[0;32m      1\u001b[0m \u001b[1;31m# Create a DataFrame that slices the subscriber data for the Europe, Middle East and Africa area\u001b[0m\u001b[1;33m\u001b[0m\u001b[1;33m\u001b[0m\u001b[0m\n\u001b[1;32m----> 2\u001b[1;33m \u001b[0memea_subscribers\u001b[0m \u001b[1;33m=\u001b[0m \u001b[0msubscribers_df\u001b[0m\u001b[1;33m.\u001b[0m\u001b[0mloc\u001b[0m\u001b[1;33m[\u001b[0m\u001b[0msubscribers_df\u001b[0m\u001b[1;33m[\u001b[0m\u001b[1;34m'Area'\u001b[0m\u001b[1;33m]\u001b[0m \u001b[1;33m==\u001b[0m \u001b[1;34m'Europe, Middle East and Africa'\u001b[0m\u001b[1;33m]\u001b[0m\u001b[1;33m\u001b[0m\u001b[1;33m\u001b[0m\u001b[0m\n\u001b[0m\u001b[0;32m      3\u001b[0m \u001b[1;33m\u001b[0m\u001b[0m\n\u001b[0;32m      4\u001b[0m \u001b[1;31m# Set the index of the DataFrame to Years\u001b[0m\u001b[1;33m\u001b[0m\u001b[1;33m\u001b[0m\u001b[0m\n\u001b[0;32m      5\u001b[0m \u001b[0memea_subscribers\u001b[0m \u001b[1;33m=\u001b[0m \u001b[0memea_subscribers\u001b[0m\u001b[1;33m.\u001b[0m\u001b[0mset_index\u001b[0m\u001b[1;33m(\u001b[0m\u001b[1;34m'Years'\u001b[0m\u001b[1;33m)\u001b[0m\u001b[1;33m\u001b[0m\u001b[1;33m\u001b[0m\u001b[0m\n",
      "\u001b[1;31mNameError\u001b[0m: name 'subscribers_df' is not defined"
     ]
    }
   ],
   "source": [
    "emea_subscribers = subscribers_df.loc[subscribers_df['Area'] == 'Europe, Middle East and Africa']\n",
    "\n",
    "emea_subscribers = emea_subscribers.set_index('Years')\n",
    "\n",
    "emea_plot = emea_subscribers['Subscribers'].hvplot(label = 'Europe, Middle East and Africa Subscribers')\n",
    "\n",
    "emea_plot"
   ]
  },
  {
   "cell_type": "code",
   "execution_count": null,
   "id": "a1520bb1-a0b1-418a-82f1-d2139423b923",
   "metadata": {},
   "outputs": [],
   "source": [
    "us_canada_plot + emea_plot"
   ]
  },
  {
   "cell_type": "code",
   "execution_count": null,
   "id": "13c27d3e-b70e-4b01-8a92-6143fe62fc1a",
   "metadata": {},
   "outputs": [],
   "source": [
    "us_canada_plot * emea_plot"
   ]
  },
  {
   "cell_type": "code",
   "execution_count": null,
   "id": "671516b9-5a35-4f8d-9275-74a881c67967",
   "metadata": {},
   "outputs": [],
   "source": [
    "import pandas as pd\n",
    "import os\n",
    "from pathlib import Path\n",
    "import hvplot.pandas"
   ]
  },
  {
   "cell_type": "code",
   "execution_count": null,
   "id": "e549bf33-9ab7-4c65-92df-d7ca733c75b3",
   "metadata": {},
   "outputs": [],
   "source": [
    "la_foreclosures_2018 = pd.read_csv(\n",
    "    Path(\"../Resources/merchant.csv\")\n",
    ")\n",
    "\n",
    "\n",
    "display(la_foreclosures_2018.head())\n",
    "display(la_foreclosures_2018.tail())"
   ]
  },
  {
   "cell_type": "code",
   "execution_count": null,
   "id": "823a2a33-0353-4370-851d-4fb3adeecbc4",
   "metadata": {},
   "outputs": [],
   "source": [
    "\n",
    "\n",
    "most_foreclosures_df = la_foreclosures_2018[la_foreclosures_2018[\"id_merchant\"].isin(lenders)]\n",
    "\n",
    "most_foreclosures_df.head()"
   ]
  },
  {
   "cell_type": "code",
   "execution_count": null,
   "id": "3afd1eba-c971-4586-a756-c2bb244b0898",
   "metadata": {},
   "outputs": [],
   "source": [
    "#Code from Day 3 Activity 7\n",
    "\n",
    "\n",
    "most_foreclosures_df.hvplot.points(\n",
    "    'Longitude', \n",
    "    'Latitude', \n",
    "    geo=True, \n",
    "    color='Lender',\n",
    "    tiles='OSM',\n",
    "    frame_width=700,\n",
    "    frame_height=500,\n",
    "    title='Los Angeles, California Foreclosures by Lender (2018)')"
   ]
  },
  {
   "cell_type": "code",
   "execution_count": null,
   "id": "9b4ff995-93ea-4f9b-9a94-ab876e0c057a",
   "metadata": {},
   "outputs": [],
   "source": [
    "#Code from Day 3 Activity 7\n",
    "\n",
    "most_foreclosures_df.hvplot.points(\n",
    "    'Longitude', \n",
    "    'Latitude', \n",
    "    geo=True, \n",
    "    color='Council District',\n",
    "    tiles='OSM',\n",
    "    frame_width=700,\n",
    "    frame_height=500,\n",
    "    title='Los Angeles, California Foreclosures by Council District (2018)')"
   ]
  },
  {
   "cell_type": "code",
   "execution_count": null,
   "id": "b06b0425-cdbb-4efa-a219-00de19fe30f3",
   "metadata": {},
   "outputs": [],
   "source": [
    "#Code Fro, Day 3 Activity 7\n",
    "most_foreclosures_df.hvplot.points(\n",
    "    'Longitude', \n",
    "    'Latitude', \n",
    "    geo=True, \n",
    "    color='Property Type',\n",
    "    tiles='OSM',\n",
    "    frame_width=700,\n",
    "    frame_height=500,\n",
    "    title='Los Angeles, California Foreclosures by Property Type (2018)')"
   ]
  },
  {
   "cell_type": "code",
   "execution_count": null,
   "id": "1633806d-0deb-4393-bd8c-ecc04679e4d9",
   "metadata": {},
   "outputs": [],
   "source": [
    "#Code from Day 3 Activity 7\n",
    "\n",
    "most_foreclosures_df.hvplot.points(\n",
    "    'Longitude', \n",
    "    'Latitude', \n",
    "    geo=True, \n",
    "    color='Council District',\n",
    "    tiles='OSM',\n",
    "    frame_width=700,\n",
    "    frame_height=500,\n",
    "    title='Los Angeles, California Foreclosures by Council District (2018)')"
   ]
  },
  {
   "cell_type": "code",
   "execution_count": null,
   "id": "12e36ad4-d4fb-4975-9cb0-9cdb4f02673c",
   "metadata": {},
   "outputs": [],
   "source": []
  },
  {
   "cell_type": "code",
   "execution_count": null,
   "id": "fee333ae-244f-43d1-baec-37417d5bc84a",
   "metadata": {},
   "outputs": [],
   "source": []
  },
  {
   "cell_type": "code",
   "execution_count": null,
   "id": "52794951-7de3-4387-b09a-752752536626",
   "metadata": {},
   "outputs": [],
   "source": []
  }
 ],
 "metadata": {
  "kernelspec": {
   "display_name": "Python 3 (ipykernel)",
   "language": "python",
   "name": "python3"
  },
  "language_info": {
   "codemirror_mode": {
    "name": "ipython",
    "version": 3
   },
   "file_extension": ".py",
   "mimetype": "text/x-python",
   "name": "python",
   "nbconvert_exporter": "python",
   "pygments_lexer": "ipython3",
   "version": "3.9.13"
  }
 },
 "nbformat": 4,
 "nbformat_minor": 5
}
